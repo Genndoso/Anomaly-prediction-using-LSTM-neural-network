{
 "cells": [
  {
   "cell_type": "code",
   "execution_count": 1,
   "metadata": {},
   "outputs": [],
   "source": [
    "import numpy as np\n",
    "import pandas as pd\n",
    "import xgboost as xgb\n",
    "from sklearn.impute import SimpleImputer\n",
    "from sklearn.pipeline import Pipeline\n",
    "from sklearn.preprocessing import RobustScaler\n",
    "from sklearn.preprocessing import StandardScaler\n",
    "import sklearn.cluster\n",
    "from sklearn.preprocessing import LabelEncoder\n",
    "from sklearn.ensemble import IsolationForest"
   ]
  },
  {
   "cell_type": "code",
   "execution_count": 2,
   "metadata": {},
   "outputs": [],
   "source": [
    "def isolation_forest_anomaly_detection(df,\n",
    "                                       column_name,\n",
    "                                       outliers_fraction=0.05):\n",
    "    \"\"\"\n",
    "    In this definition, time series anomalies are detected using an Isolation Forest algorithm.\n",
    "    Arguments:\n",
    "        df: Pandas dataframe\n",
    "        column_name: string. Name of the column that we want to detect anomalies in\n",
    "        outliers_fraction: float. Percentage of outliers allowed in the sequence.\n",
    "    Outputs:\n",
    "        df: Pandas dataframe with column for detected Isolation Forest anomalies (True/False)\n",
    "    \"\"\"\n",
    "    #Scale the column that we want to flag for anomalies\n",
    "    min_max_scaler = StandardScaler()\n",
    "    np_scaled = min_max_scaler.fit_transform(df[[column_name]])\n",
    "    scaled_time_series = pd.DataFrame(np_scaled)\n",
    "    # train isolation forest\n",
    "    model =  IsolationForest(contamination = outliers_fraction, behaviour='new')\n",
    "    model.fit(scaled_time_series)\n",
    "    #Generate column for Isolation Forest-detected anomalies\n",
    "    isolation_forest_anomaly_column = column_name+'_Isolation_Forest_Anomaly'\n",
    "    df[isolation_forest_anomaly_column] = model.predict(scaled_time_series)\n",
    "    df[isolation_forest_anomaly_column] = df[isolation_forest_anomaly_column].map( {1: False, -1: True} )\n",
    "    return df\n",
    "\n"
   ]
  },
  {
   "cell_type": "code",
   "execution_count": null,
   "metadata": {},
   "outputs": [],
   "source": []
  }
 ],
 "metadata": {
  "kernelspec": {
   "display_name": "Python 3",
   "language": "python",
   "name": "python3"
  },
  "language_info": {
   "codemirror_mode": {
    "name": "ipython",
    "version": 3
   },
   "file_extension": ".py",
   "mimetype": "text/x-python",
   "name": "python",
   "nbconvert_exporter": "python",
   "pygments_lexer": "ipython3",
   "version": "3.8.5"
  },
  "toc": {
   "base_numbering": 1,
   "nav_menu": {},
   "number_sections": true,
   "sideBar": true,
   "skip_h1_title": false,
   "title_cell": "Table of Contents",
   "title_sidebar": "Contents",
   "toc_cell": false,
   "toc_position": {},
   "toc_section_display": true,
   "toc_window_display": false
  }
 },
 "nbformat": 4,
 "nbformat_minor": 4
}
